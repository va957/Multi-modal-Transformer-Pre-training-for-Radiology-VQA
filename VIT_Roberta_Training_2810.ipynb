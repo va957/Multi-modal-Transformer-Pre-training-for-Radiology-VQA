{
  "nbformat": 4,
  "nbformat_minor": 0,
  "metadata": {
    "colab": {
      "provenance": []
    },
    "kernelspec": {
      "name": "python3",
      "display_name": "Python 3"
    },
    "language_info": {
      "name": "python"
    }
  },
  "cells": [
    {
      "cell_type": "code",
      "source": [
        "from google.colab import drive\n",
        "drive.mount('/content/drive')"
      ],
      "metadata": {
        "colab": {
          "base_uri": "https://localhost:8080/"
        },
        "id": "nLeqA2IVAI7x",
        "outputId": "d57c7f95-ca72-49d8-c73e-9665c473928a"
      },
      "execution_count": null,
      "outputs": [
        {
          "output_type": "stream",
          "name": "stdout",
          "text": [
            "Mounted at /content/drive\n"
          ]
        }
      ]
    },
    {
      "cell_type": "code",
      "source": [],
      "metadata": {
        "id": "iiwQPCkbsOBY"
      },
      "execution_count": null,
      "outputs": []
    },
    {
      "cell_type": "code",
      "source": [
        "! pip install transformers"
      ],
      "metadata": {
        "id": "cOdyJ_Dyy5wO",
        "colab": {
          "base_uri": "https://localhost:8080/"
        },
        "outputId": "1488ef2a-ef78-4f8f-a76e-1c1e94e1a3ec"
      },
      "execution_count": null,
      "outputs": [
        {
          "output_type": "stream",
          "name": "stdout",
          "text": [
            "Collecting transformers\n",
            "  Downloading transformers-4.35.0-py3-none-any.whl (7.9 MB)\n",
            "\u001b[2K     \u001b[90m━━━━━━━━━━━━━━━━━━━━━━━━━━━━━━━━━━━━━━━━\u001b[0m \u001b[32m7.9/7.9 MB\u001b[0m \u001b[31m61.3 MB/s\u001b[0m eta \u001b[36m0:00:00\u001b[0m\n",
            "\u001b[?25hRequirement already satisfied: filelock in /usr/local/lib/python3.10/dist-packages (from transformers) (3.12.4)\n",
            "Collecting huggingface-hub<1.0,>=0.16.4 (from transformers)\n",
            "  Downloading huggingface_hub-0.18.0-py3-none-any.whl (301 kB)\n",
            "\u001b[2K     \u001b[90m━━━━━━━━━━━━━━━━━━━━━━━━━━━━━━━━━━━━━━━━\u001b[0m \u001b[32m302.0/302.0 kB\u001b[0m \u001b[31m27.3 MB/s\u001b[0m eta \u001b[36m0:00:00\u001b[0m\n",
            "\u001b[?25hRequirement already satisfied: numpy>=1.17 in /usr/local/lib/python3.10/dist-packages (from transformers) (1.23.5)\n",
            "Requirement already satisfied: packaging>=20.0 in /usr/local/lib/python3.10/dist-packages (from transformers) (23.2)\n",
            "Requirement already satisfied: pyyaml>=5.1 in /usr/local/lib/python3.10/dist-packages (from transformers) (6.0.1)\n",
            "Requirement already satisfied: regex!=2019.12.17 in /usr/local/lib/python3.10/dist-packages (from transformers) (2023.6.3)\n",
            "Requirement already satisfied: requests in /usr/local/lib/python3.10/dist-packages (from transformers) (2.31.0)\n",
            "Collecting tokenizers<0.15,>=0.14 (from transformers)\n",
            "  Downloading tokenizers-0.14.1-cp310-cp310-manylinux_2_17_x86_64.manylinux2014_x86_64.whl (3.8 MB)\n",
            "\u001b[2K     \u001b[90m━━━━━━━━━━━━━━━━━━━━━━━━━━━━━━━━━━━━━━━━\u001b[0m \u001b[32m3.8/3.8 MB\u001b[0m \u001b[31m113.9 MB/s\u001b[0m eta \u001b[36m0:00:00\u001b[0m\n",
            "\u001b[?25hCollecting safetensors>=0.3.1 (from transformers)\n",
            "  Downloading safetensors-0.4.0-cp310-cp310-manylinux_2_17_x86_64.manylinux2014_x86_64.whl (1.3 MB)\n",
            "\u001b[2K     \u001b[90m━━━━━━━━━━━━━━━━━━━━━━━━━━━━━━━━━━━━━━━━\u001b[0m \u001b[32m1.3/1.3 MB\u001b[0m \u001b[31m101.3 MB/s\u001b[0m eta \u001b[36m0:00:00\u001b[0m\n",
            "\u001b[?25hRequirement already satisfied: tqdm>=4.27 in /usr/local/lib/python3.10/dist-packages (from transformers) (4.66.1)\n",
            "Requirement already satisfied: fsspec>=2023.5.0 in /usr/local/lib/python3.10/dist-packages (from huggingface-hub<1.0,>=0.16.4->transformers) (2023.6.0)\n",
            "Requirement already satisfied: typing-extensions>=3.7.4.3 in /usr/local/lib/python3.10/dist-packages (from huggingface-hub<1.0,>=0.16.4->transformers) (4.5.0)\n",
            "Collecting huggingface-hub<1.0,>=0.16.4 (from transformers)\n",
            "  Downloading huggingface_hub-0.17.3-py3-none-any.whl (295 kB)\n",
            "\u001b[2K     \u001b[90m━━━━━━━━━━━━━━━━━━━━━━━━━━━━━━━━━━━━━━━━\u001b[0m \u001b[32m295.0/295.0 kB\u001b[0m \u001b[31m32.3 MB/s\u001b[0m eta \u001b[36m0:00:00\u001b[0m\n",
            "\u001b[?25hRequirement already satisfied: charset-normalizer<4,>=2 in /usr/local/lib/python3.10/dist-packages (from requests->transformers) (3.3.1)\n",
            "Requirement already satisfied: idna<4,>=2.5 in /usr/local/lib/python3.10/dist-packages (from requests->transformers) (3.4)\n",
            "Requirement already satisfied: urllib3<3,>=1.21.1 in /usr/local/lib/python3.10/dist-packages (from requests->transformers) (2.0.7)\n",
            "Requirement already satisfied: certifi>=2017.4.17 in /usr/local/lib/python3.10/dist-packages (from requests->transformers) (2023.7.22)\n",
            "Installing collected packages: safetensors, huggingface-hub, tokenizers, transformers\n",
            "Successfully installed huggingface-hub-0.17.3 safetensors-0.4.0 tokenizers-0.14.1 transformers-4.35.0\n"
          ]
        }
      ]
    },
    {
      "cell_type": "code",
      "source": [
        "import pandas as pd\n",
        "import numpy as np\n",
        "import tensorflow as tf\n",
        "from tensorflow.keras.layers import Input, Concatenate, Embedding, LSTM, Dense, Flatten, Reshape, Attention, Lambda\n",
        "from tensorflow.keras.models import Model\n",
        "from tensorflow.keras.preprocessing.text import Tokenizer\n",
        "from tensorflow.keras.preprocessing.sequence import pad_sequences\n",
        "from tensorflow.keras.applications import VGG16\n",
        "from sklearn.preprocessing import LabelEncoder\n",
        "import cv2\n",
        "import matplotlib.pyplot as plt\n",
        "import seaborn as sns\n",
        "import ast\n",
        "import numpy as np\n",
        "from sklearn.decomposition import PCA\n",
        "from sklearn.model_selection import train_test_split\n",
        "import torch\n",
        "from transformers import BertTokenizer, BertModel, AdamW, get_linear_schedule_with_warmup"
      ],
      "metadata": {
        "id": "ETT7lGr7y8qJ"
      },
      "execution_count": null,
      "outputs": []
    },
    {
      "cell_type": "code",
      "source": [
        "import warnings\n",
        "warnings.filterwarnings(\"ignore\")"
      ],
      "metadata": {
        "id": "Oxp8xkFaDPWG"
      },
      "execution_count": null,
      "outputs": []
    },
    {
      "cell_type": "code",
      "source": [
        "train_df = pd.read_csv(\"/content/VR_Train_Emb.csv\")\n",
        "train_df.head()"
      ],
      "metadata": {
        "colab": {
          "base_uri": "https://localhost:8080/",
          "height": 642
        },
        "id": "DX4F6IvH0ERk",
        "outputId": "e69af785-f2d2-4abe-a7ff-14d7ad9c511b"
      },
      "execution_count": null,
      "outputs": [
        {
          "output_type": "execute_result",
          "data": {
            "text/plain": [
              "   Unnamed: 0.1  Unnamed: 0  \\\n",
              "0             0           0   \n",
              "1             1           1   \n",
              "2             3           3   \n",
              "3             5           5   \n",
              "4             6           6   \n",
              "\n",
              "                                            question answer  image_id  \\\n",
              "0                are regions of the brain infarcted?    yes         0   \n",
              "1                    are the lungs normal appearing?     no         1   \n",
              "2  is the lesion causing significant brainstem he...     no         3   \n",
              "3             is this image in the transverse plane?    yes         9   \n",
              "4                  are there any pulmonary findings?     no        10   \n",
              "\n",
              "                                        image  label  split  \\\n",
              "0   /content/train/kaggle/working/train/0.png     78  train   \n",
              "1   /content/train/kaggle/working/train/1.png    109  train   \n",
              "2   /content/train/kaggle/working/train/3.png    109  train   \n",
              "3   /content/train/kaggle/working/train/9.png     78  train   \n",
              "4  /content/train/kaggle/working/train/10.png    109  train   \n",
              "\n",
              "                                       pooler_output  \\\n",
              "0  [[-4.15634423e-01 -2.18633011e-01  1.23488329e...   \n",
              "1  [[ 4.91200536e-02  1.26657277e-01 -3.05416938e...   \n",
              "2  [[-0.6961587   0.0832852   0.21249478 -0.44286...   \n",
              "3  [[-0.26736712 -0.71014696 -0.4011913  -0.21945...   \n",
              "4  [[-7.64926821e-02  1.63867891e-01 -2.69446522e...   \n",
              "\n",
              "                                                 LHS  \\\n",
              "0  [[[ 0.20274048  0.34934664 -0.5113254  ... -0....   \n",
              "1  [[[-0.148142    0.10915223 -1.0637746  ...  0....   \n",
              "2  [[[-0.08065961 -0.1205781  -0.8257754  ...  0....   \n",
              "3  [[[-0.82390666  0.31531572 -0.8019041  ... -0....   \n",
              "4  [[[-0.00340338  0.4043334  -0.69638467 ...  0....   \n",
              "\n",
              "                                  BERT_pooler_output  \\\n",
              "0  [[ 0.07978443 -0.13336562  0.08196832 -0.14794...   \n",
              "1  [[ 6.41742945e-02 -1.35044396e-01  7.82183185e...   \n",
              "2  [[ 8.42936710e-02 -1.37623131e-01  8.45395550e...   \n",
              "3  [[ 0.07401221 -0.1456637   0.08481682 -0.14187...   \n",
              "4  [[ 0.0722234  -0.13484631  0.08574356 -0.14604...   \n",
              "\n",
              "                                            BERT_LHS  \n",
              "0  [[-0.03380692  0.08464462 -0.02945923 ... -0.1...  \n",
              "1  [[-5.0863441e-02  1.0242079e-01 -1.9856434e-02...  \n",
              "2  [[-0.032382    0.09276641 -0.02214786 ... -0.1...  \n",
              "3  [[-4.7084399e-02  8.9686424e-02 -5.1976148e-02...  \n",
              "4  [[-0.04342871  0.10207354 -0.05432218 ... -0.0...  "
            ],
            "text/html": [
              "\n",
              "  <div id=\"df-26d6c9d7-7c49-4ec5-8c93-0735621266e3\" class=\"colab-df-container\">\n",
              "    <div>\n",
              "<style scoped>\n",
              "    .dataframe tbody tr th:only-of-type {\n",
              "        vertical-align: middle;\n",
              "    }\n",
              "\n",
              "    .dataframe tbody tr th {\n",
              "        vertical-align: top;\n",
              "    }\n",
              "\n",
              "    .dataframe thead th {\n",
              "        text-align: right;\n",
              "    }\n",
              "</style>\n",
              "<table border=\"1\" class=\"dataframe\">\n",
              "  <thead>\n",
              "    <tr style=\"text-align: right;\">\n",
              "      <th></th>\n",
              "      <th>Unnamed: 0.1</th>\n",
              "      <th>Unnamed: 0</th>\n",
              "      <th>question</th>\n",
              "      <th>answer</th>\n",
              "      <th>image_id</th>\n",
              "      <th>image</th>\n",
              "      <th>label</th>\n",
              "      <th>split</th>\n",
              "      <th>pooler_output</th>\n",
              "      <th>LHS</th>\n",
              "      <th>BERT_pooler_output</th>\n",
              "      <th>BERT_LHS</th>\n",
              "    </tr>\n",
              "  </thead>\n",
              "  <tbody>\n",
              "    <tr>\n",
              "      <th>0</th>\n",
              "      <td>0</td>\n",
              "      <td>0</td>\n",
              "      <td>are regions of the brain infarcted?</td>\n",
              "      <td>yes</td>\n",
              "      <td>0</td>\n",
              "      <td>/content/train/kaggle/working/train/0.png</td>\n",
              "      <td>78</td>\n",
              "      <td>train</td>\n",
              "      <td>[[-4.15634423e-01 -2.18633011e-01  1.23488329e...</td>\n",
              "      <td>[[[ 0.20274048  0.34934664 -0.5113254  ... -0....</td>\n",
              "      <td>[[ 0.07978443 -0.13336562  0.08196832 -0.14794...</td>\n",
              "      <td>[[-0.03380692  0.08464462 -0.02945923 ... -0.1...</td>\n",
              "    </tr>\n",
              "    <tr>\n",
              "      <th>1</th>\n",
              "      <td>1</td>\n",
              "      <td>1</td>\n",
              "      <td>are the lungs normal appearing?</td>\n",
              "      <td>no</td>\n",
              "      <td>1</td>\n",
              "      <td>/content/train/kaggle/working/train/1.png</td>\n",
              "      <td>109</td>\n",
              "      <td>train</td>\n",
              "      <td>[[ 4.91200536e-02  1.26657277e-01 -3.05416938e...</td>\n",
              "      <td>[[[-0.148142    0.10915223 -1.0637746  ...  0....</td>\n",
              "      <td>[[ 6.41742945e-02 -1.35044396e-01  7.82183185e...</td>\n",
              "      <td>[[-5.0863441e-02  1.0242079e-01 -1.9856434e-02...</td>\n",
              "    </tr>\n",
              "    <tr>\n",
              "      <th>2</th>\n",
              "      <td>3</td>\n",
              "      <td>3</td>\n",
              "      <td>is the lesion causing significant brainstem he...</td>\n",
              "      <td>no</td>\n",
              "      <td>3</td>\n",
              "      <td>/content/train/kaggle/working/train/3.png</td>\n",
              "      <td>109</td>\n",
              "      <td>train</td>\n",
              "      <td>[[-0.6961587   0.0832852   0.21249478 -0.44286...</td>\n",
              "      <td>[[[-0.08065961 -0.1205781  -0.8257754  ...  0....</td>\n",
              "      <td>[[ 8.42936710e-02 -1.37623131e-01  8.45395550e...</td>\n",
              "      <td>[[-0.032382    0.09276641 -0.02214786 ... -0.1...</td>\n",
              "    </tr>\n",
              "    <tr>\n",
              "      <th>3</th>\n",
              "      <td>5</td>\n",
              "      <td>5</td>\n",
              "      <td>is this image in the transverse plane?</td>\n",
              "      <td>yes</td>\n",
              "      <td>9</td>\n",
              "      <td>/content/train/kaggle/working/train/9.png</td>\n",
              "      <td>78</td>\n",
              "      <td>train</td>\n",
              "      <td>[[-0.26736712 -0.71014696 -0.4011913  -0.21945...</td>\n",
              "      <td>[[[-0.82390666  0.31531572 -0.8019041  ... -0....</td>\n",
              "      <td>[[ 0.07401221 -0.1456637   0.08481682 -0.14187...</td>\n",
              "      <td>[[-4.7084399e-02  8.9686424e-02 -5.1976148e-02...</td>\n",
              "    </tr>\n",
              "    <tr>\n",
              "      <th>4</th>\n",
              "      <td>6</td>\n",
              "      <td>6</td>\n",
              "      <td>are there any pulmonary findings?</td>\n",
              "      <td>no</td>\n",
              "      <td>10</td>\n",
              "      <td>/content/train/kaggle/working/train/10.png</td>\n",
              "      <td>109</td>\n",
              "      <td>train</td>\n",
              "      <td>[[-7.64926821e-02  1.63867891e-01 -2.69446522e...</td>\n",
              "      <td>[[[-0.00340338  0.4043334  -0.69638467 ...  0....</td>\n",
              "      <td>[[ 0.0722234  -0.13484631  0.08574356 -0.14604...</td>\n",
              "      <td>[[-0.04342871  0.10207354 -0.05432218 ... -0.0...</td>\n",
              "    </tr>\n",
              "  </tbody>\n",
              "</table>\n",
              "</div>\n",
              "    <div class=\"colab-df-buttons\">\n",
              "\n",
              "  <div class=\"colab-df-container\">\n",
              "    <button class=\"colab-df-convert\" onclick=\"convertToInteractive('df-26d6c9d7-7c49-4ec5-8c93-0735621266e3')\"\n",
              "            title=\"Convert this dataframe to an interactive table.\"\n",
              "            style=\"display:none;\">\n",
              "\n",
              "  <svg xmlns=\"http://www.w3.org/2000/svg\" height=\"24px\" viewBox=\"0 -960 960 960\">\n",
              "    <path d=\"M120-120v-720h720v720H120Zm60-500h600v-160H180v160Zm220 220h160v-160H400v160Zm0 220h160v-160H400v160ZM180-400h160v-160H180v160Zm440 0h160v-160H620v160ZM180-180h160v-160H180v160Zm440 0h160v-160H620v160Z\"/>\n",
              "  </svg>\n",
              "    </button>\n",
              "\n",
              "  <style>\n",
              "    .colab-df-container {\n",
              "      display:flex;\n",
              "      gap: 12px;\n",
              "    }\n",
              "\n",
              "    .colab-df-convert {\n",
              "      background-color: #E8F0FE;\n",
              "      border: none;\n",
              "      border-radius: 50%;\n",
              "      cursor: pointer;\n",
              "      display: none;\n",
              "      fill: #1967D2;\n",
              "      height: 32px;\n",
              "      padding: 0 0 0 0;\n",
              "      width: 32px;\n",
              "    }\n",
              "\n",
              "    .colab-df-convert:hover {\n",
              "      background-color: #E2EBFA;\n",
              "      box-shadow: 0px 1px 2px rgba(60, 64, 67, 0.3), 0px 1px 3px 1px rgba(60, 64, 67, 0.15);\n",
              "      fill: #174EA6;\n",
              "    }\n",
              "\n",
              "    .colab-df-buttons div {\n",
              "      margin-bottom: 4px;\n",
              "    }\n",
              "\n",
              "    [theme=dark] .colab-df-convert {\n",
              "      background-color: #3B4455;\n",
              "      fill: #D2E3FC;\n",
              "    }\n",
              "\n",
              "    [theme=dark] .colab-df-convert:hover {\n",
              "      background-color: #434B5C;\n",
              "      box-shadow: 0px 1px 3px 1px rgba(0, 0, 0, 0.15);\n",
              "      filter: drop-shadow(0px 1px 2px rgba(0, 0, 0, 0.3));\n",
              "      fill: #FFFFFF;\n",
              "    }\n",
              "  </style>\n",
              "\n",
              "    <script>\n",
              "      const buttonEl =\n",
              "        document.querySelector('#df-26d6c9d7-7c49-4ec5-8c93-0735621266e3 button.colab-df-convert');\n",
              "      buttonEl.style.display =\n",
              "        google.colab.kernel.accessAllowed ? 'block' : 'none';\n",
              "\n",
              "      async function convertToInteractive(key) {\n",
              "        const element = document.querySelector('#df-26d6c9d7-7c49-4ec5-8c93-0735621266e3');\n",
              "        const dataTable =\n",
              "          await google.colab.kernel.invokeFunction('convertToInteractive',\n",
              "                                                    [key], {});\n",
              "        if (!dataTable) return;\n",
              "\n",
              "        const docLinkHtml = 'Like what you see? Visit the ' +\n",
              "          '<a target=\"_blank\" href=https://colab.research.google.com/notebooks/data_table.ipynb>data table notebook</a>'\n",
              "          + ' to learn more about interactive tables.';\n",
              "        element.innerHTML = '';\n",
              "        dataTable['output_type'] = 'display_data';\n",
              "        await google.colab.output.renderOutput(dataTable, element);\n",
              "        const docLink = document.createElement('div');\n",
              "        docLink.innerHTML = docLinkHtml;\n",
              "        element.appendChild(docLink);\n",
              "      }\n",
              "    </script>\n",
              "  </div>\n",
              "\n",
              "\n",
              "<div id=\"df-bf3fc23a-daa0-431a-b233-1839ae546538\">\n",
              "  <button class=\"colab-df-quickchart\" onclick=\"quickchart('df-bf3fc23a-daa0-431a-b233-1839ae546538')\"\n",
              "            title=\"Suggest charts.\"\n",
              "            style=\"display:none;\">\n",
              "\n",
              "<svg xmlns=\"http://www.w3.org/2000/svg\" height=\"24px\"viewBox=\"0 0 24 24\"\n",
              "     width=\"24px\">\n",
              "    <g>\n",
              "        <path d=\"M19 3H5c-1.1 0-2 .9-2 2v14c0 1.1.9 2 2 2h14c1.1 0 2-.9 2-2V5c0-1.1-.9-2-2-2zM9 17H7v-7h2v7zm4 0h-2V7h2v10zm4 0h-2v-4h2v4z\"/>\n",
              "    </g>\n",
              "</svg>\n",
              "  </button>\n",
              "\n",
              "<style>\n",
              "  .colab-df-quickchart {\n",
              "      --bg-color: #E8F0FE;\n",
              "      --fill-color: #1967D2;\n",
              "      --hover-bg-color: #E2EBFA;\n",
              "      --hover-fill-color: #174EA6;\n",
              "      --disabled-fill-color: #AAA;\n",
              "      --disabled-bg-color: #DDD;\n",
              "  }\n",
              "\n",
              "  [theme=dark] .colab-df-quickchart {\n",
              "      --bg-color: #3B4455;\n",
              "      --fill-color: #D2E3FC;\n",
              "      --hover-bg-color: #434B5C;\n",
              "      --hover-fill-color: #FFFFFF;\n",
              "      --disabled-bg-color: #3B4455;\n",
              "      --disabled-fill-color: #666;\n",
              "  }\n",
              "\n",
              "  .colab-df-quickchart {\n",
              "    background-color: var(--bg-color);\n",
              "    border: none;\n",
              "    border-radius: 50%;\n",
              "    cursor: pointer;\n",
              "    display: none;\n",
              "    fill: var(--fill-color);\n",
              "    height: 32px;\n",
              "    padding: 0;\n",
              "    width: 32px;\n",
              "  }\n",
              "\n",
              "  .colab-df-quickchart:hover {\n",
              "    background-color: var(--hover-bg-color);\n",
              "    box-shadow: 0 1px 2px rgba(60, 64, 67, 0.3), 0 1px 3px 1px rgba(60, 64, 67, 0.15);\n",
              "    fill: var(--button-hover-fill-color);\n",
              "  }\n",
              "\n",
              "  .colab-df-quickchart-complete:disabled,\n",
              "  .colab-df-quickchart-complete:disabled:hover {\n",
              "    background-color: var(--disabled-bg-color);\n",
              "    fill: var(--disabled-fill-color);\n",
              "    box-shadow: none;\n",
              "  }\n",
              "\n",
              "  .colab-df-spinner {\n",
              "    border: 2px solid var(--fill-color);\n",
              "    border-color: transparent;\n",
              "    border-bottom-color: var(--fill-color);\n",
              "    animation:\n",
              "      spin 1s steps(1) infinite;\n",
              "  }\n",
              "\n",
              "  @keyframes spin {\n",
              "    0% {\n",
              "      border-color: transparent;\n",
              "      border-bottom-color: var(--fill-color);\n",
              "      border-left-color: var(--fill-color);\n",
              "    }\n",
              "    20% {\n",
              "      border-color: transparent;\n",
              "      border-left-color: var(--fill-color);\n",
              "      border-top-color: var(--fill-color);\n",
              "    }\n",
              "    30% {\n",
              "      border-color: transparent;\n",
              "      border-left-color: var(--fill-color);\n",
              "      border-top-color: var(--fill-color);\n",
              "      border-right-color: var(--fill-color);\n",
              "    }\n",
              "    40% {\n",
              "      border-color: transparent;\n",
              "      border-right-color: var(--fill-color);\n",
              "      border-top-color: var(--fill-color);\n",
              "    }\n",
              "    60% {\n",
              "      border-color: transparent;\n",
              "      border-right-color: var(--fill-color);\n",
              "    }\n",
              "    80% {\n",
              "      border-color: transparent;\n",
              "      border-right-color: var(--fill-color);\n",
              "      border-bottom-color: var(--fill-color);\n",
              "    }\n",
              "    90% {\n",
              "      border-color: transparent;\n",
              "      border-bottom-color: var(--fill-color);\n",
              "    }\n",
              "  }\n",
              "</style>\n",
              "\n",
              "  <script>\n",
              "    async function quickchart(key) {\n",
              "      const quickchartButtonEl =\n",
              "        document.querySelector('#' + key + ' button');\n",
              "      quickchartButtonEl.disabled = true;  // To prevent multiple clicks.\n",
              "      quickchartButtonEl.classList.add('colab-df-spinner');\n",
              "      try {\n",
              "        const charts = await google.colab.kernel.invokeFunction(\n",
              "            'suggestCharts', [key], {});\n",
              "      } catch (error) {\n",
              "        console.error('Error during call to suggestCharts:', error);\n",
              "      }\n",
              "      quickchartButtonEl.classList.remove('colab-df-spinner');\n",
              "      quickchartButtonEl.classList.add('colab-df-quickchart-complete');\n",
              "    }\n",
              "    (() => {\n",
              "      let quickchartButtonEl =\n",
              "        document.querySelector('#df-bf3fc23a-daa0-431a-b233-1839ae546538 button');\n",
              "      quickchartButtonEl.style.display =\n",
              "        google.colab.kernel.accessAllowed ? 'block' : 'none';\n",
              "    })();\n",
              "  </script>\n",
              "</div>\n",
              "    </div>\n",
              "  </div>\n"
            ]
          },
          "metadata": {},
          "execution_count": 5
        }
      ]
    },
    {
      "cell_type": "code",
      "source": [
        "test_df = pd.read_csv(\"/content/VR_Test_Emb.csv\")\n",
        "test_df.head()"
      ],
      "metadata": {
        "colab": {
          "base_uri": "https://localhost:8080/",
          "height": 590
        },
        "id": "5dXpUOr1Hi73",
        "outputId": "a933f4da-d37c-4930-804a-5c01b2d5ca18"
      },
      "execution_count": null,
      "outputs": [
        {
          "output_type": "execute_result",
          "data": {
            "text/plain": [
              "   Unnamed: 0.1  Unnamed: 0  \\\n",
              "0          1321           0   \n",
              "1          1322           1   \n",
              "2          1323           2   \n",
              "3          1325           4   \n",
              "4          1329           8   \n",
              "\n",
              "                                            question answer  image_id  \\\n",
              "0           is there evidence of an aortic aneurysm?    yes         0   \n",
              "1  is there airspace consolidation on the left side?    yes         1   \n",
              "2  is there any intraparenchymal abnormalities in...     no         2   \n",
              "3             are the kidneys present in this image?     no         5   \n",
              "4                 is the liver visible in the image?     no         9   \n",
              "\n",
              "                                     image  label split  \\\n",
              "0  /content/test/kaggle/working/test/0.png     78  test   \n",
              "1  /content/test/kaggle/working/test/1.png     78  test   \n",
              "2  /content/test/kaggle/working/test/2.png    109  test   \n",
              "3  /content/test/kaggle/working/test/5.png    109  test   \n",
              "4  /content/test/kaggle/working/test/9.png    109  test   \n",
              "\n",
              "                                       pooler_output  \\\n",
              "0  [[-3.79437715e-01  2.92319596e-01 -1.52506530e...   \n",
              "1  [[ 4.91200536e-02  1.26657277e-01 -3.05416938e...   \n",
              "2  [[ 1.96340397e-01  2.57583350e-01 -1.43540740e...   \n",
              "3  [[-6.33725107e-01 -4.10758793e-01  3.44804138e...   \n",
              "4  [[-8.38306189e-01  9.52408835e-02  5.12672663e...   \n",
              "\n",
              "                                                 LHS  \\\n",
              "0  [[[-1.2255638e-01  1.3018084e-01 -1.2608231e+0...   \n",
              "1  [[[-0.148142    0.10915223 -1.0637746  ...  0....   \n",
              "2  [[[-0.4797985   0.29681936 -0.75277907 ... -0....   \n",
              "3  [[[-5.0024915e-01 -3.4376976e-01 -7.1118832e-0...   \n",
              "4  [[[-1.3804451   0.509425    0.6566619  ... -0....   \n",
              "\n",
              "                                  BERT_pooler_output  \\\n",
              "0  [[ 0.08150899 -0.12743214  0.08919282 -0.13318...   \n",
              "1  [[ 7.06100613e-02 -1.39744788e-01  1.04695573e...   \n",
              "2  [[ 6.61141053e-02 -1.39728904e-01  8.89760628e...   \n",
              "3  [[ 7.92723224e-02 -1.24781601e-01  7.81859756e...   \n",
              "4  [[ 8.04461762e-02 -1.25662312e-01  8.01614895e...   \n",
              "\n",
              "                                            BERT_LHS  \n",
              "0  [[-0.05657627  0.0998497  -0.05125942 ... -0.1...  \n",
              "1  [[-0.05259708  0.06921858 -0.03462698 ... -0.0...  \n",
              "2  [[-0.02523502  0.0941537  -0.04854548 ... -0.0...  \n",
              "3  [[-0.06934284  0.08773336 -0.04365717 ... -0.0...  \n",
              "4  [[-0.04960352  0.08340733 -0.04727279 ... -0.0...  "
            ],
            "text/html": [
              "\n",
              "  <div id=\"df-a484a56b-0169-4d75-9a74-8e33d664a618\" class=\"colab-df-container\">\n",
              "    <div>\n",
              "<style scoped>\n",
              "    .dataframe tbody tr th:only-of-type {\n",
              "        vertical-align: middle;\n",
              "    }\n",
              "\n",
              "    .dataframe tbody tr th {\n",
              "        vertical-align: top;\n",
              "    }\n",
              "\n",
              "    .dataframe thead th {\n",
              "        text-align: right;\n",
              "    }\n",
              "</style>\n",
              "<table border=\"1\" class=\"dataframe\">\n",
              "  <thead>\n",
              "    <tr style=\"text-align: right;\">\n",
              "      <th></th>\n",
              "      <th>Unnamed: 0.1</th>\n",
              "      <th>Unnamed: 0</th>\n",
              "      <th>question</th>\n",
              "      <th>answer</th>\n",
              "      <th>image_id</th>\n",
              "      <th>image</th>\n",
              "      <th>label</th>\n",
              "      <th>split</th>\n",
              "      <th>pooler_output</th>\n",
              "      <th>LHS</th>\n",
              "      <th>BERT_pooler_output</th>\n",
              "      <th>BERT_LHS</th>\n",
              "    </tr>\n",
              "  </thead>\n",
              "  <tbody>\n",
              "    <tr>\n",
              "      <th>0</th>\n",
              "      <td>1321</td>\n",
              "      <td>0</td>\n",
              "      <td>is there evidence of an aortic aneurysm?</td>\n",
              "      <td>yes</td>\n",
              "      <td>0</td>\n",
              "      <td>/content/test/kaggle/working/test/0.png</td>\n",
              "      <td>78</td>\n",
              "      <td>test</td>\n",
              "      <td>[[-3.79437715e-01  2.92319596e-01 -1.52506530e...</td>\n",
              "      <td>[[[-1.2255638e-01  1.3018084e-01 -1.2608231e+0...</td>\n",
              "      <td>[[ 0.08150899 -0.12743214  0.08919282 -0.13318...</td>\n",
              "      <td>[[-0.05657627  0.0998497  -0.05125942 ... -0.1...</td>\n",
              "    </tr>\n",
              "    <tr>\n",
              "      <th>1</th>\n",
              "      <td>1322</td>\n",
              "      <td>1</td>\n",
              "      <td>is there airspace consolidation on the left side?</td>\n",
              "      <td>yes</td>\n",
              "      <td>1</td>\n",
              "      <td>/content/test/kaggle/working/test/1.png</td>\n",
              "      <td>78</td>\n",
              "      <td>test</td>\n",
              "      <td>[[ 4.91200536e-02  1.26657277e-01 -3.05416938e...</td>\n",
              "      <td>[[[-0.148142    0.10915223 -1.0637746  ...  0....</td>\n",
              "      <td>[[ 7.06100613e-02 -1.39744788e-01  1.04695573e...</td>\n",
              "      <td>[[-0.05259708  0.06921858 -0.03462698 ... -0.0...</td>\n",
              "    </tr>\n",
              "    <tr>\n",
              "      <th>2</th>\n",
              "      <td>1323</td>\n",
              "      <td>2</td>\n",
              "      <td>is there any intraparenchymal abnormalities in...</td>\n",
              "      <td>no</td>\n",
              "      <td>2</td>\n",
              "      <td>/content/test/kaggle/working/test/2.png</td>\n",
              "      <td>109</td>\n",
              "      <td>test</td>\n",
              "      <td>[[ 1.96340397e-01  2.57583350e-01 -1.43540740e...</td>\n",
              "      <td>[[[-0.4797985   0.29681936 -0.75277907 ... -0....</td>\n",
              "      <td>[[ 6.61141053e-02 -1.39728904e-01  8.89760628e...</td>\n",
              "      <td>[[-0.02523502  0.0941537  -0.04854548 ... -0.0...</td>\n",
              "    </tr>\n",
              "    <tr>\n",
              "      <th>3</th>\n",
              "      <td>1325</td>\n",
              "      <td>4</td>\n",
              "      <td>are the kidneys present in this image?</td>\n",
              "      <td>no</td>\n",
              "      <td>5</td>\n",
              "      <td>/content/test/kaggle/working/test/5.png</td>\n",
              "      <td>109</td>\n",
              "      <td>test</td>\n",
              "      <td>[[-6.33725107e-01 -4.10758793e-01  3.44804138e...</td>\n",
              "      <td>[[[-5.0024915e-01 -3.4376976e-01 -7.1118832e-0...</td>\n",
              "      <td>[[ 7.92723224e-02 -1.24781601e-01  7.81859756e...</td>\n",
              "      <td>[[-0.06934284  0.08773336 -0.04365717 ... -0.0...</td>\n",
              "    </tr>\n",
              "    <tr>\n",
              "      <th>4</th>\n",
              "      <td>1329</td>\n",
              "      <td>8</td>\n",
              "      <td>is the liver visible in the image?</td>\n",
              "      <td>no</td>\n",
              "      <td>9</td>\n",
              "      <td>/content/test/kaggle/working/test/9.png</td>\n",
              "      <td>109</td>\n",
              "      <td>test</td>\n",
              "      <td>[[-8.38306189e-01  9.52408835e-02  5.12672663e...</td>\n",
              "      <td>[[[-1.3804451   0.509425    0.6566619  ... -0....</td>\n",
              "      <td>[[ 8.04461762e-02 -1.25662312e-01  8.01614895e...</td>\n",
              "      <td>[[-0.04960352  0.08340733 -0.04727279 ... -0.0...</td>\n",
              "    </tr>\n",
              "  </tbody>\n",
              "</table>\n",
              "</div>\n",
              "    <div class=\"colab-df-buttons\">\n",
              "\n",
              "  <div class=\"colab-df-container\">\n",
              "    <button class=\"colab-df-convert\" onclick=\"convertToInteractive('df-a484a56b-0169-4d75-9a74-8e33d664a618')\"\n",
              "            title=\"Convert this dataframe to an interactive table.\"\n",
              "            style=\"display:none;\">\n",
              "\n",
              "  <svg xmlns=\"http://www.w3.org/2000/svg\" height=\"24px\" viewBox=\"0 -960 960 960\">\n",
              "    <path d=\"M120-120v-720h720v720H120Zm60-500h600v-160H180v160Zm220 220h160v-160H400v160Zm0 220h160v-160H400v160ZM180-400h160v-160H180v160Zm440 0h160v-160H620v160ZM180-180h160v-160H180v160Zm440 0h160v-160H620v160Z\"/>\n",
              "  </svg>\n",
              "    </button>\n",
              "\n",
              "  <style>\n",
              "    .colab-df-container {\n",
              "      display:flex;\n",
              "      gap: 12px;\n",
              "    }\n",
              "\n",
              "    .colab-df-convert {\n",
              "      background-color: #E8F0FE;\n",
              "      border: none;\n",
              "      border-radius: 50%;\n",
              "      cursor: pointer;\n",
              "      display: none;\n",
              "      fill: #1967D2;\n",
              "      height: 32px;\n",
              "      padding: 0 0 0 0;\n",
              "      width: 32px;\n",
              "    }\n",
              "\n",
              "    .colab-df-convert:hover {\n",
              "      background-color: #E2EBFA;\n",
              "      box-shadow: 0px 1px 2px rgba(60, 64, 67, 0.3), 0px 1px 3px 1px rgba(60, 64, 67, 0.15);\n",
              "      fill: #174EA6;\n",
              "    }\n",
              "\n",
              "    .colab-df-buttons div {\n",
              "      margin-bottom: 4px;\n",
              "    }\n",
              "\n",
              "    [theme=dark] .colab-df-convert {\n",
              "      background-color: #3B4455;\n",
              "      fill: #D2E3FC;\n",
              "    }\n",
              "\n",
              "    [theme=dark] .colab-df-convert:hover {\n",
              "      background-color: #434B5C;\n",
              "      box-shadow: 0px 1px 3px 1px rgba(0, 0, 0, 0.15);\n",
              "      filter: drop-shadow(0px 1px 2px rgba(0, 0, 0, 0.3));\n",
              "      fill: #FFFFFF;\n",
              "    }\n",
              "  </style>\n",
              "\n",
              "    <script>\n",
              "      const buttonEl =\n",
              "        document.querySelector('#df-a484a56b-0169-4d75-9a74-8e33d664a618 button.colab-df-convert');\n",
              "      buttonEl.style.display =\n",
              "        google.colab.kernel.accessAllowed ? 'block' : 'none';\n",
              "\n",
              "      async function convertToInteractive(key) {\n",
              "        const element = document.querySelector('#df-a484a56b-0169-4d75-9a74-8e33d664a618');\n",
              "        const dataTable =\n",
              "          await google.colab.kernel.invokeFunction('convertToInteractive',\n",
              "                                                    [key], {});\n",
              "        if (!dataTable) return;\n",
              "\n",
              "        const docLinkHtml = 'Like what you see? Visit the ' +\n",
              "          '<a target=\"_blank\" href=https://colab.research.google.com/notebooks/data_table.ipynb>data table notebook</a>'\n",
              "          + ' to learn more about interactive tables.';\n",
              "        element.innerHTML = '';\n",
              "        dataTable['output_type'] = 'display_data';\n",
              "        await google.colab.output.renderOutput(dataTable, element);\n",
              "        const docLink = document.createElement('div');\n",
              "        docLink.innerHTML = docLinkHtml;\n",
              "        element.appendChild(docLink);\n",
              "      }\n",
              "    </script>\n",
              "  </div>\n",
              "\n",
              "\n",
              "<div id=\"df-78357701-263f-4dc3-b787-7037bb7a50f2\">\n",
              "  <button class=\"colab-df-quickchart\" onclick=\"quickchart('df-78357701-263f-4dc3-b787-7037bb7a50f2')\"\n",
              "            title=\"Suggest charts.\"\n",
              "            style=\"display:none;\">\n",
              "\n",
              "<svg xmlns=\"http://www.w3.org/2000/svg\" height=\"24px\"viewBox=\"0 0 24 24\"\n",
              "     width=\"24px\">\n",
              "    <g>\n",
              "        <path d=\"M19 3H5c-1.1 0-2 .9-2 2v14c0 1.1.9 2 2 2h14c1.1 0 2-.9 2-2V5c0-1.1-.9-2-2-2zM9 17H7v-7h2v7zm4 0h-2V7h2v10zm4 0h-2v-4h2v4z\"/>\n",
              "    </g>\n",
              "</svg>\n",
              "  </button>\n",
              "\n",
              "<style>\n",
              "  .colab-df-quickchart {\n",
              "      --bg-color: #E8F0FE;\n",
              "      --fill-color: #1967D2;\n",
              "      --hover-bg-color: #E2EBFA;\n",
              "      --hover-fill-color: #174EA6;\n",
              "      --disabled-fill-color: #AAA;\n",
              "      --disabled-bg-color: #DDD;\n",
              "  }\n",
              "\n",
              "  [theme=dark] .colab-df-quickchart {\n",
              "      --bg-color: #3B4455;\n",
              "      --fill-color: #D2E3FC;\n",
              "      --hover-bg-color: #434B5C;\n",
              "      --hover-fill-color: #FFFFFF;\n",
              "      --disabled-bg-color: #3B4455;\n",
              "      --disabled-fill-color: #666;\n",
              "  }\n",
              "\n",
              "  .colab-df-quickchart {\n",
              "    background-color: var(--bg-color);\n",
              "    border: none;\n",
              "    border-radius: 50%;\n",
              "    cursor: pointer;\n",
              "    display: none;\n",
              "    fill: var(--fill-color);\n",
              "    height: 32px;\n",
              "    padding: 0;\n",
              "    width: 32px;\n",
              "  }\n",
              "\n",
              "  .colab-df-quickchart:hover {\n",
              "    background-color: var(--hover-bg-color);\n",
              "    box-shadow: 0 1px 2px rgba(60, 64, 67, 0.3), 0 1px 3px 1px rgba(60, 64, 67, 0.15);\n",
              "    fill: var(--button-hover-fill-color);\n",
              "  }\n",
              "\n",
              "  .colab-df-quickchart-complete:disabled,\n",
              "  .colab-df-quickchart-complete:disabled:hover {\n",
              "    background-color: var(--disabled-bg-color);\n",
              "    fill: var(--disabled-fill-color);\n",
              "    box-shadow: none;\n",
              "  }\n",
              "\n",
              "  .colab-df-spinner {\n",
              "    border: 2px solid var(--fill-color);\n",
              "    border-color: transparent;\n",
              "    border-bottom-color: var(--fill-color);\n",
              "    animation:\n",
              "      spin 1s steps(1) infinite;\n",
              "  }\n",
              "\n",
              "  @keyframes spin {\n",
              "    0% {\n",
              "      border-color: transparent;\n",
              "      border-bottom-color: var(--fill-color);\n",
              "      border-left-color: var(--fill-color);\n",
              "    }\n",
              "    20% {\n",
              "      border-color: transparent;\n",
              "      border-left-color: var(--fill-color);\n",
              "      border-top-color: var(--fill-color);\n",
              "    }\n",
              "    30% {\n",
              "      border-color: transparent;\n",
              "      border-left-color: var(--fill-color);\n",
              "      border-top-color: var(--fill-color);\n",
              "      border-right-color: var(--fill-color);\n",
              "    }\n",
              "    40% {\n",
              "      border-color: transparent;\n",
              "      border-right-color: var(--fill-color);\n",
              "      border-top-color: var(--fill-color);\n",
              "    }\n",
              "    60% {\n",
              "      border-color: transparent;\n",
              "      border-right-color: var(--fill-color);\n",
              "    }\n",
              "    80% {\n",
              "      border-color: transparent;\n",
              "      border-right-color: var(--fill-color);\n",
              "      border-bottom-color: var(--fill-color);\n",
              "    }\n",
              "    90% {\n",
              "      border-color: transparent;\n",
              "      border-bottom-color: var(--fill-color);\n",
              "    }\n",
              "  }\n",
              "</style>\n",
              "\n",
              "  <script>\n",
              "    async function quickchart(key) {\n",
              "      const quickchartButtonEl =\n",
              "        document.querySelector('#' + key + ' button');\n",
              "      quickchartButtonEl.disabled = true;  // To prevent multiple clicks.\n",
              "      quickchartButtonEl.classList.add('colab-df-spinner');\n",
              "      try {\n",
              "        const charts = await google.colab.kernel.invokeFunction(\n",
              "            'suggestCharts', [key], {});\n",
              "      } catch (error) {\n",
              "        console.error('Error during call to suggestCharts:', error);\n",
              "      }\n",
              "      quickchartButtonEl.classList.remove('colab-df-spinner');\n",
              "      quickchartButtonEl.classList.add('colab-df-quickchart-complete');\n",
              "    }\n",
              "    (() => {\n",
              "      let quickchartButtonEl =\n",
              "        document.querySelector('#df-78357701-263f-4dc3-b787-7037bb7a50f2 button');\n",
              "      quickchartButtonEl.style.display =\n",
              "        google.colab.kernel.accessAllowed ? 'block' : 'none';\n",
              "    })();\n",
              "  </script>\n",
              "</div>\n",
              "    </div>\n",
              "  </div>\n"
            ]
          },
          "metadata": {},
          "execution_count": 6
        }
      ]
    },
    {
      "cell_type": "markdown",
      "source": [
        "# Get Image Embeddings"
      ],
      "metadata": {
        "id": "VzX-w9r-KmKt"
      }
    },
    {
      "cell_type": "code",
      "source": [
        "def str_to_numpy(text):\n",
        "  data_string = text.strip('[]').split()\n",
        "  data_array = np.array([float(val) for val in data_string])\n",
        "  data_array = data_array.reshape(1, -1)\n",
        "  return data_array"
      ],
      "metadata": {
        "id": "M1ZQjA7bJufb"
      },
      "execution_count": null,
      "outputs": []
    },
    {
      "cell_type": "code",
      "source": [
        "train_image_emb = [str_to_numpy(train_df['pooler_output'][i]) for i in range(train_df.shape[0])]\n",
        "train_image_emb = np.array(train_image_emb)\n",
        "train_image_emb = train_image_emb.reshape(-1, 768)\n",
        "train_image_emb.shape"
      ],
      "metadata": {
        "colab": {
          "base_uri": "https://localhost:8080/"
        },
        "id": "t5HZzq9YHptv",
        "outputId": "09315646-5529-4918-d490-d2478d02466c"
      },
      "execution_count": null,
      "outputs": [
        {
          "output_type": "execute_result",
          "data": {
            "text/plain": [
              "(940, 768)"
            ]
          },
          "metadata": {},
          "execution_count": 8
        }
      ]
    },
    {
      "cell_type": "code",
      "source": [
        "test_image_emb = [str_to_numpy(test_df['pooler_output'][i]) for i in range(test_df.shape[0])]\n",
        "test_image_emb = np.array(test_image_emb)\n",
        "test_image_emb = test_image_emb.reshape(-1, 768)\n",
        "test_image_emb.shape"
      ],
      "metadata": {
        "colab": {
          "base_uri": "https://localhost:8080/"
        },
        "id": "8X4l1x9yJmUh",
        "outputId": "10e4d51f-8f3a-4afb-e591-72cfcafffd0f"
      },
      "execution_count": null,
      "outputs": [
        {
          "output_type": "execute_result",
          "data": {
            "text/plain": [
              "(251, 768)"
            ]
          },
          "metadata": {},
          "execution_count": 9
        }
      ]
    },
    {
      "cell_type": "markdown",
      "source": [
        "## Get Text Embeddings"
      ],
      "metadata": {
        "id": "5bllqR-wKrZE"
      }
    },
    {
      "cell_type": "code",
      "source": [
        "train_text_emb = [str_to_numpy(train_df['BERT_pooler_output'][i]) for i in range(train_df.shape[0])]\n",
        "train_text_emb = np.array(train_text_emb)\n",
        "train_text_emb = train_text_emb.reshape(-1, 768)\n",
        "train_text_emb.shape"
      ],
      "metadata": {
        "colab": {
          "base_uri": "https://localhost:8080/"
        },
        "outputId": "7f135069-f5e5-45b8-f992-e67c5a1c41f4",
        "id": "4PQxLzHDKuwD"
      },
      "execution_count": null,
      "outputs": [
        {
          "output_type": "execute_result",
          "data": {
            "text/plain": [
              "(940, 768)"
            ]
          },
          "metadata": {},
          "execution_count": 10
        }
      ]
    },
    {
      "cell_type": "code",
      "source": [
        "test_text_emb = [str_to_numpy(test_df['BERT_pooler_output'][i]) for i in range(test_df.shape[0])]\n",
        "test_text_emb = np.array(test_text_emb)\n",
        "test_text_emb = test_text_emb.reshape(-1, 768)\n",
        "test_text_emb.shape"
      ],
      "metadata": {
        "colab": {
          "base_uri": "https://localhost:8080/"
        },
        "outputId": "14985ad8-fa6b-4f98-d0fb-45a0f1d4986f",
        "id": "TqQMSfUjKuwE"
      },
      "execution_count": null,
      "outputs": [
        {
          "output_type": "execute_result",
          "data": {
            "text/plain": [
              "(251, 768)"
            ]
          },
          "metadata": {},
          "execution_count": 11
        }
      ]
    },
    {
      "cell_type": "code",
      "source": [
        "# Encode answer labels\n",
        "label_encoder = LabelEncoder()\n",
        "encoded_answers_train = label_encoder.fit_transform(train_df['answer'])\n",
        "encoded_answers_test = label_encoder.fit_transform(test_df['answer'])"
      ],
      "metadata": {
        "id": "YMKZvvfDK7KP"
      },
      "execution_count": null,
      "outputs": []
    },
    {
      "cell_type": "code",
      "source": [
        "np.unique(encoded_answers_train)"
      ],
      "metadata": {
        "colab": {
          "base_uri": "https://localhost:8080/"
        },
        "id": "O4MMhcV4LMcL",
        "outputId": "a6a72c5a-f03d-4aab-c4be-3cb52cdd41ba"
      },
      "execution_count": null,
      "outputs": [
        {
          "output_type": "execute_result",
          "data": {
            "text/plain": [
              "array([0, 1])"
            ]
          },
          "metadata": {},
          "execution_count": 13
        }
      ]
    },
    {
      "cell_type": "code",
      "source": [
        "from tensorflow.keras.utils import to_categorical"
      ],
      "metadata": {
        "id": "h4gCjQ4BLSsL"
      },
      "execution_count": null,
      "outputs": []
    },
    {
      "cell_type": "code",
      "source": [
        "ytrain = to_categorical(encoded_answers_train)\n",
        "ytest = to_categorical(encoded_answers_test)\n",
        "ytrain[30]"
      ],
      "metadata": {
        "colab": {
          "base_uri": "https://localhost:8080/"
        },
        "id": "6psljEXnLVPt",
        "outputId": "2c620c03-fe6c-4845-8c41-357e0bea906b"
      },
      "execution_count": null,
      "outputs": [
        {
          "output_type": "execute_result",
          "data": {
            "text/plain": [
              "array([0., 1.], dtype=float32)"
            ]
          },
          "metadata": {},
          "execution_count": 15
        }
      ]
    },
    {
      "cell_type": "code",
      "source": [
        "# Define the model\n",
        "image_input = Input(shape=(768,))\n",
        "text_input = Input(shape=(768,))"
      ],
      "metadata": {
        "id": "McYJXsi6MaUD"
      },
      "execution_count": null,
      "outputs": []
    },
    {
      "cell_type": "code",
      "source": [
        "from tensorflow.keras.layers import Attention,Multiply,Lambda\n",
        "\n",
        "# Multi-modal attention mechanism using Lambda layer\n",
        "concatenated = Lambda(lambda x: x[0] * x[1])([image_input, text_input])\n",
        "\n",
        "# Continue with the dense layers for classification"
      ],
      "metadata": {
        "id": "8FqjxlbTg3LO"
      },
      "execution_count": null,
      "outputs": []
    },
    {
      "cell_type": "code",
      "source": [
        "# Concatenate the image and text embeddings\n",
        "#concatenated = Concatenate()([image_input, text_input])"
      ],
      "metadata": {
        "id": "1dtKV1ZsPfwj"
      },
      "execution_count": null,
      "outputs": []
    },
    {
      "cell_type": "code",
      "source": [
        "concatenated.shape"
      ],
      "metadata": {
        "colab": {
          "base_uri": "https://localhost:8080/"
        },
        "id": "WRq80fMEBuhf",
        "outputId": "0b03ca92-9558-401e-ed53-ffb7a81edce4"
      },
      "execution_count": null,
      "outputs": [
        {
          "output_type": "execute_result",
          "data": {
            "text/plain": [
              "TensorShape([None, 768])"
            ]
          },
          "metadata": {},
          "execution_count": 19
        }
      ]
    },
    {
      "cell_type": "code",
      "source": [
        "# Add some dense layers for classification\n",
        "dense1 = Dense(384, activation='relu')(concatenated)\n",
        "#dense2 = Dense(128, activation='relu')(dense1)\n",
        "output = Dense(2, activation='softmax')(dense1)\n",
        "\n",
        "model = Model(inputs=[image_input, text_input], outputs=output)"
      ],
      "metadata": {
        "id": "TreyeAsBLf2X"
      },
      "execution_count": null,
      "outputs": []
    },
    {
      "cell_type": "code",
      "source": [
        "model.compile(optimizer='adam', loss='categorical_crossentropy', metrics=['accuracy'])"
      ],
      "metadata": {
        "id": "eGf0Iby_M_9J"
      },
      "execution_count": null,
      "outputs": []
    },
    {
      "cell_type": "code",
      "source": [
        "from tensorflow.keras.callbacks import ModelCheckpoint, ReduceLROnPlateau, EarlyStopping\n",
        "\n",
        "checkpoint = ModelCheckpoint('model.h5', save_best_only=True)\n",
        "reduce_lr = ReduceLROnPlateau(\n",
        "    monitor = 'val_accuracy',\n",
        "    factor = 0.2,\n",
        "    patience = 3,\n",
        "    min_lr = 1e-4\n",
        ")\n",
        "early_stopping = EarlyStopping(monitor='val_accuracy', patience=3, restore_best_weights=True)\n",
        "\n",
        "\n",
        "callbacks = [checkpoint, reduce_lr, early_stopping]"
      ],
      "metadata": {
        "id": "FZ0xXYmSNEpI"
      },
      "execution_count": null,
      "outputs": []
    },
    {
      "cell_type": "code",
      "source": [
        "model.summary()"
      ],
      "metadata": {
        "colab": {
          "base_uri": "https://localhost:8080/"
        },
        "id": "UU5CnIjGSWZo",
        "outputId": "0f510d88-98ed-4f90-ed9a-cf1cc2a1a011"
      },
      "execution_count": null,
      "outputs": [
        {
          "output_type": "stream",
          "name": "stdout",
          "text": [
            "Model: \"model\"\n",
            "__________________________________________________________________________________________________\n",
            " Layer (type)                Output Shape                 Param #   Connected to                  \n",
            "==================================================================================================\n",
            " input_1 (InputLayer)        [(None, 768)]                0         []                            \n",
            "                                                                                                  \n",
            " input_2 (InputLayer)        [(None, 768)]                0         []                            \n",
            "                                                                                                  \n",
            " lambda (Lambda)             (None, 768)                  0         ['input_1[0][0]',             \n",
            "                                                                     'input_2[0][0]']             \n",
            "                                                                                                  \n",
            " dense (Dense)               (None, 384)                  295296    ['lambda[0][0]']              \n",
            "                                                                                                  \n",
            " dense_1 (Dense)             (None, 2)                    770       ['dense[0][0]']               \n",
            "                                                                                                  \n",
            "==================================================================================================\n",
            "Total params: 296066 (1.13 MB)\n",
            "Trainable params: 296066 (1.13 MB)\n",
            "Non-trainable params: 0 (0.00 Byte)\n",
            "__________________________________________________________________________________________________\n"
          ]
        }
      ]
    },
    {
      "cell_type": "code",
      "source": [
        "history = model.fit(\n",
        "    [train_image_emb, train_text_emb],\n",
        "    ytrain,\n",
        "    validation_data=([test_image_emb, test_text_emb], ytest),\n",
        "    batch_size = 32,\n",
        "    shuffle = True,\n",
        "    epochs=100,\n",
        "    callbacks = callbacks\n",
        ")"
      ],
      "metadata": {
        "colab": {
          "base_uri": "https://localhost:8080/"
        },
        "id": "DC98AicRNHkK",
        "outputId": "72adf6a4-1ea8-4a2b-a1f7-c72abd8c42f1"
      },
      "execution_count": null,
      "outputs": [
        {
          "output_type": "stream",
          "name": "stdout",
          "text": [
            "Epoch 1/100\n",
            "30/30 [==============================] - 2s 14ms/step - loss: 0.6729 - accuracy: 0.5734 - val_loss: 0.7128 - val_accuracy: 0.5657 - lr: 0.0010\n",
            "Epoch 2/100\n",
            "30/30 [==============================] - 0s 7ms/step - loss: 0.6386 - accuracy: 0.6436 - val_loss: 0.6908 - val_accuracy: 0.5339 - lr: 0.0010\n",
            "Epoch 3/100\n",
            "30/30 [==============================] - 0s 7ms/step - loss: 0.6156 - accuracy: 0.6660 - val_loss: 0.6866 - val_accuracy: 0.5777 - lr: 0.0010\n",
            "Epoch 4/100\n",
            "30/30 [==============================] - 0s 6ms/step - loss: 0.5958 - accuracy: 0.6926 - val_loss: 0.6864 - val_accuracy: 0.5578 - lr: 0.0010\n",
            "Epoch 5/100\n",
            "30/30 [==============================] - 0s 5ms/step - loss: 0.5836 - accuracy: 0.6851 - val_loss: 0.7623 - val_accuracy: 0.5139 - lr: 0.0010\n",
            "Epoch 6/100\n",
            "30/30 [==============================] - 0s 4ms/step - loss: 0.5579 - accuracy: 0.7117 - val_loss: 0.6865 - val_accuracy: 0.5896 - lr: 0.0010\n",
            "Epoch 7/100\n",
            "30/30 [==============================] - 0s 5ms/step - loss: 0.5520 - accuracy: 0.6979 - val_loss: 0.6773 - val_accuracy: 0.6016 - lr: 0.0010\n",
            "Epoch 8/100\n",
            "30/30 [==============================] - 0s 4ms/step - loss: 0.5387 - accuracy: 0.7298 - val_loss: 0.7634 - val_accuracy: 0.5777 - lr: 0.0010\n",
            "Epoch 9/100\n",
            "30/30 [==============================] - 0s 5ms/step - loss: 0.5191 - accuracy: 0.7383 - val_loss: 0.7805 - val_accuracy: 0.5857 - lr: 0.0010\n",
            "Epoch 10/100\n",
            "30/30 [==============================] - 0s 5ms/step - loss: 0.5258 - accuracy: 0.7309 - val_loss: 0.6848 - val_accuracy: 0.6295 - lr: 0.0010\n",
            "Epoch 11/100\n",
            "30/30 [==============================] - 0s 6ms/step - loss: 0.4994 - accuracy: 0.7585 - val_loss: 0.7141 - val_accuracy: 0.6454 - lr: 0.0010\n",
            "Epoch 12/100\n",
            "30/30 [==============================] - 0s 5ms/step - loss: 0.4784 - accuracy: 0.7670 - val_loss: 0.7366 - val_accuracy: 0.6295 - lr: 0.0010\n",
            "Epoch 13/100\n",
            "30/30 [==============================] - 0s 5ms/step - loss: 0.5028 - accuracy: 0.7500 - val_loss: 0.7703 - val_accuracy: 0.6215 - lr: 0.0010\n",
            "Epoch 14/100\n",
            "30/30 [==============================] - 0s 5ms/step - loss: 0.4914 - accuracy: 0.7521 - val_loss: 0.7537 - val_accuracy: 0.6135 - lr: 0.0010\n"
          ]
        }
      ]
    },
    {
      "cell_type": "code",
      "source": [
        "average_training_accuracy = np.mean(history.history['accuracy'])\n",
        "print(f'Average training accuracy: {average_training_accuracy}')"
      ],
      "metadata": {
        "colab": {
          "base_uri": "https://localhost:8080/"
        },
        "id": "Cf94rkM5NVhU",
        "outputId": "0dbefcd6-562a-44a7-cee2-d51dda152742"
      },
      "execution_count": null,
      "outputs": [
        {
          "output_type": "stream",
          "name": "stdout",
          "text": [
            "Average training accuracy: 0.7069148932184491\n"
          ]
        }
      ]
    },
    {
      "cell_type": "code",
      "source": [
        "\n",
        "average_validation_accuracy = np.mean(history.history['val_accuracy'])\n",
        "print(f'Average validation accuracy: {average_validation_accuracy}')"
      ],
      "metadata": {
        "colab": {
          "base_uri": "https://localhost:8080/"
        },
        "id": "ath3em3iOjHB",
        "outputId": "98b16339-1814-4890-9fbe-f30f732d4045"
      },
      "execution_count": null,
      "outputs": [
        {
          "output_type": "stream",
          "name": "stdout",
          "text": [
            "Average validation accuracy: 0.5887877132211413\n"
          ]
        }
      ]
    },
    {
      "cell_type": "code",
      "source": [
        "# list all data in history\n",
        "print(history.history.keys())\n",
        "# summarize history for accuracy\n",
        "plt.plot(history.history['accuracy'])\n",
        "plt.plot(history.history['val_accuracy'])\n",
        "plt.title('model accuracy')\n",
        "plt.ylabel('accuracy')\n",
        "plt.xlabel('epoch')\n",
        "plt.legend(['train', 'test'], loc='upper left')\n",
        "plt.show()\n",
        "\n",
        "# summarize history for loss\n",
        "plt.plot(history.history['loss'])\n",
        "plt.plot(history.history['val_loss'])\n",
        "plt.title('model loss')\n",
        "plt.ylabel('loss')\n",
        "plt.xlabel('epoch')\n",
        "plt.legend(['train', 'test'], loc='upper left')\n",
        "plt.show()"
      ],
      "metadata": {
        "colab": {
          "base_uri": "https://localhost:8080/",
          "height": 945
        },
        "id": "Oz_WPa57Olbk",
        "outputId": "bbd9bf4e-6bfd-4ade-d91b-19235781f4b5"
      },
      "execution_count": null,
      "outputs": [
        {
          "output_type": "stream",
          "name": "stdout",
          "text": [
            "dict_keys(['loss', 'accuracy', 'val_loss', 'val_accuracy', 'lr'])\n"
          ]
        },
        {
          "output_type": "display_data",
          "data": {
            "text/plain": [
              "<Figure size 640x480 with 1 Axes>"
            ],
            "image/png": "[encoded data removed]"
          },
          "metadata": {}
        },
        {
          "output_type": "display_data",
          "data": {
            "text/plain": [
              "<Figure size 640x480 with 1 Axes>"
            ],
            "image/png": "[encoded data removed]"
          },
          "metadata": {}
        }
      ]
    },
    {
      "cell_type": "code",
      "source": [
        "img_size = 224"
      ],
      "metadata": {
        "id": "BkawfuILRkN6"
      },
      "execution_count": null,
      "outputs": []
    },
    {
      "cell_type": "code",
      "source": [
        "image_sample = test_image_emb\n",
        "text_sample = test_text_emb\n",
        "\n",
        "# Now, you can make predictions\n",
        "predictions = model.predict([image_sample, text_sample])"
      ],
      "metadata": {
        "colab": {
          "base_uri": "https://localhost:8080/"
        },
        "id": "uoyElHCjSTmd",
        "outputId": "5c68ce3c-7431-49ac-a12a-a2651376bf90"
      },
      "execution_count": null,
      "outputs": [
        {
          "output_type": "stream",
          "name": "stdout",
          "text": [
            "8/8 [==============================] - 0s 2ms/step\n"
          ]
        }
      ]
    },
    {
      "cell_type": "code",
      "source": [
        "predicted_indices = np.argmax(predictions, axis=1)\n",
        "y_true = np.argmax(ytest, axis=1)\n",
        "\n",
        "# Use the LabelEncoder to convert indices back to original class labels\n",
        "predicted_labels = label_encoder.inverse_transform(predicted_indices)\n",
        "predicted_labels"
      ],
      "metadata": {
        "colab": {
          "base_uri": "https://localhost:8080/"
        },
        "id": "beFGevm_RmJI",
        "outputId": "b4b71492-710f-4c5e-daa1-f88a1a38a907"
      },
      "execution_count": null,
      "outputs": [
        {
          "output_type": "execute_result",
          "data": {
            "text/plain": [
              "array(['no', 'no', 'no', 'no', 'yes', 'no', 'no', 'no', 'no', 'no', 'no',\n",
              "       'no', 'no', 'yes', 'no', 'no', 'no', 'no', 'no', 'no', 'yes', 'no',\n",
              "       'no', 'no', 'no', 'no', 'no', 'yes', 'yes', 'yes', 'no', 'no',\n",
              "       'yes', 'yes', 'yes', 'yes', 'no', 'no', 'yes', 'no', 'no', 'no',\n",
              "       'no', 'no', 'no', 'yes', 'yes', 'yes', 'no', 'no', 'yes', 'yes',\n",
              "       'no', 'no', 'yes', 'no', 'yes', 'no', 'yes', 'yes', 'no', 'yes',\n",
              "       'yes', 'no', 'yes', 'no', 'yes', 'yes', 'no', 'no', 'yes', 'no',\n",
              "       'no', 'yes', 'yes', 'yes', 'yes', 'yes', 'yes', 'no', 'no', 'yes',\n",
              "       'yes', 'yes', 'no', 'no', 'yes', 'yes', 'no', 'no', 'no', 'no',\n",
              "       'no', 'yes', 'no', 'no', 'no', 'no', 'no', 'no', 'no', 'no', 'no',\n",
              "       'no', 'no', 'no', 'no', 'no', 'no', 'no', 'no', 'no', 'no', 'no',\n",
              "       'no', 'no', 'yes', 'yes', 'no', 'no', 'yes', 'yes', 'no', 'yes',\n",
              "       'yes', 'yes', 'yes', 'yes', 'yes', 'no', 'no', 'no', 'no', 'no',\n",
              "       'yes', 'no', 'no', 'no', 'yes', 'yes', 'no', 'no', 'no', 'no',\n",
              "       'no', 'yes', 'yes', 'yes', 'yes', 'no', 'no', 'no', 'no', 'no',\n",
              "       'no', 'yes', 'no', 'yes', 'yes', 'yes', 'no', 'no', 'no', 'no',\n",
              "       'no', 'yes', 'no', 'yes', 'no', 'yes', 'no', 'no', 'no', 'no',\n",
              "       'yes', 'yes', 'yes', 'no', 'yes', 'yes', 'no', 'yes', 'no', 'no',\n",
              "       'no', 'no', 'no', 'no', 'no', 'no', 'no', 'yes', 'yes', 'no',\n",
              "       'yes', 'yes', 'yes', 'yes', 'yes', 'yes', 'no', 'no', 'no', 'yes',\n",
              "       'no', 'no', 'no', 'yes', 'yes', 'no', 'yes', 'yes', 'no', 'no',\n",
              "       'yes', 'yes', 'yes', 'no', 'no', 'yes', 'no', 'no', 'no', 'yes',\n",
              "       'yes', 'yes', 'yes', 'yes', 'no', 'no', 'yes', 'no', 'yes', 'yes',\n",
              "       'no', 'no', 'no', 'yes', 'no', 'no', 'no', 'no', 'yes', 'yes',\n",
              "       'no', 'no', 'no', 'yes', 'no', 'yes', 'yes'], dtype=object)"
            ]
          },
          "metadata": {},
          "execution_count": 30
        }
      ]
    },
    {
      "cell_type": "code",
      "source": [
        "from sklearn.metrics import classification_report\n",
        "print(classification_report(y_true, predicted_indices))"
      ],
      "metadata": {
        "colab": {
          "base_uri": "https://localhost:8080/"
        },
        "id": "4axvvjpXT-_b",
        "outputId": "b76a3eb0-cb7e-4c03-f8c0-f2912c3ba2dc"
      },
      "execution_count": null,
      "outputs": [
        {
          "output_type": "stream",
          "name": "stdout",
          "text": [
            "              precision    recall  f1-score   support\n",
            "\n",
            "           0       0.64      0.74      0.69       133\n",
            "           1       0.65      0.54      0.59       118\n",
            "\n",
            "    accuracy                           0.65       251\n",
            "   macro avg       0.65      0.64      0.64       251\n",
            "weighted avg       0.65      0.65      0.64       251\n",
            "\n"
          ]
        }
      ]
    },
    {
      "cell_type": "code",
      "source": [
        "from sklearn.metrics import roc_auc_score, roc_curve, auc\n",
        "print('ROC AUC Score = ',roc_auc_score(y_true, predicted_indices))\n",
        "\n",
        "fpr_keras, tpr_keras, thresholds_keras = roc_curve(y_true, predicted_indices)\n",
        "auc_keras = auc(fpr_keras, tpr_keras)\n",
        "\n",
        "\"\"\"**Let's plot our ROC Curve**\"\"\"\n",
        "\n",
        "plt.figure(1)\n",
        "plt.plot([0, 1], [0, 1], 'k--')\n",
        "plt.plot(fpr_keras, tpr_keras, label='area = {:.2f}'.format(auc_keras))\n",
        "plt.xlabel('False positive rate')\n",
        "plt.ylabel('True positive rate')\n",
        "plt.title('ROC curve')\n",
        "plt.legend(loc='best')\n",
        "plt.show()"
      ],
      "metadata": {
        "colab": {
          "base_uri": "https://localhost:8080/",
          "height": 490
        },
        "id": "Db0Vc_d7TuYd",
        "outputId": "9791cb76-c23a-461f-edf5-39120fcbba6a"
      },
      "execution_count": null,
      "outputs": [
        {
          "output_type": "stream",
          "name": "stdout",
          "text": [
            "ROC AUC Score =  0.639607493309545\n"
          ]
        },
        {
          "output_type": "display_data",
          "data": {
            "text/plain": [
              "<Figure size 640x480 with 1 Axes>"
            ],
            "image/png": "[encoded data removed]"
          },
          "metadata": {}
        }
      ]
    },
    {
      "cell_type": "code",
      "source": [],
      "metadata": {
        "id": "oJU9dpyuVPbC"
      },
      "execution_count": null,
      "outputs": []
    }
  ]
}
